{
 "cells": [
  {
   "cell_type": "markdown",
   "metadata": {},
   "source": [
    "Data Engineering - Group 1\n",
    "Healthcare - Flu Tracker\n",
    "---\n",
    "\n",
    " "
   ]
  },
  {
   "cell_type": "markdown",
   "metadata": {},
   "source": [
    "## Extraction"
   ]
  },
  {
   "cell_type": "code",
   "execution_count": 1,
   "metadata": {},
   "outputs": [
    {
     "name": "stdout",
     "output_type": "stream",
     "text": [
      "First few rows of ILINet State DataFrame:\n",
      "  REGION TYPE      REGION  YEAR  WEEK % WEIGHTED ILI %UNWEIGHTED ILI AGE 0-4  \\\n",
      "0      States     Alabama  2010    40              X         2.13477       X   \n",
      "1      States      Alaska  2010    40              X        0.875146       X   \n",
      "2      States     Arizona  2010    40              X        0.674721       X   \n",
      "3      States    Arkansas  2010    40              X        0.696056       X   \n",
      "4      States  California  2010    40              X         1.95412       X   \n",
      "\n",
      "  AGE 25-49 AGE 25-64 AGE 5-24 AGE 50-64 AGE 65 ILITOTAL NUM. OF PROVIDERS  \\\n",
      "0         X         X        X         X      X      249                35   \n",
      "1         X         X        X         X      X       15                 7   \n",
      "2         X         X        X         X      X      172                49   \n",
      "3         X         X        X         X      X       18                15   \n",
      "4         X         X        X         X      X      632               112   \n",
      "\n",
      "  TOTAL PATIENTS  \n",
      "0          11664  \n",
      "1           1714  \n",
      "2          25492  \n",
      "3           2586  \n",
      "4          32342  \n",
      "\n",
      "First few rows of WHO_NREVSS_Clinical_Labs National DataFrame:\n",
      "  REGION TYPE REGION  YEAR  WEEK  TOTAL SPECIMENS  TOTAL A  TOTAL B  \\\n",
      "0    National      X  2015    40            12029       84       43   \n",
      "1    National      X  2015    41            13111      116       54   \n",
      "2    National      X  2015    42            13441       97       52   \n",
      "3    National      X  2015    43            13537       98       52   \n",
      "4    National      X  2015    44            14687       97       68   \n",
      "\n",
      "   PERCENT POSITIVE  PERCENT A  PERCENT B  \n",
      "0           1.05578   0.698312   0.357469  \n",
      "1           1.29662   0.884753   0.411868  \n",
      "2           1.10855   0.721672   0.386876  \n",
      "3           1.10807   0.723942   0.384132  \n",
      "4           1.12344   0.660448   0.462994  \n",
      "First few rows of ILINet National DataFrame:\n",
      "  REGION TYPE REGION  YEAR  WEEK  % WEIGHTED ILI  %UNWEIGHTED ILI  AGE 0-4  \\\n",
      "0    National      X  1997    40         1.10148          1.21686      179   \n",
      "1    National      X  1997    41         1.20007          1.28064      199   \n",
      "2    National      X  1997    42         1.37876          1.23906      228   \n",
      "3    National      X  1997    43         1.19920          1.14473      188   \n",
      "4    National      X  1997    44         1.65618          1.26112      217   \n",
      "\n",
      "  AGE 25-49 AGE 25-64  AGE 5-24 AGE 50-64  AGE 65  ILITOTAL  \\\n",
      "0         X       157       205         X      29       570   \n",
      "1         X       151       242         X      23       615   \n",
      "2         X       153       266         X      34       681   \n",
      "3         X       193       236         X      36       653   \n",
      "4         X       162       280         X      41       700   \n",
      "\n",
      "   NUM. OF PROVIDERS  TOTAL PATIENTS  \n",
      "0                192           46842  \n",
      "1                191           48023  \n",
      "2                219           54961  \n",
      "3                213           57044  \n",
      "4                213           55506  \n",
      "\n",
      "First few rows of WHO_NREVSS_Clinical_Labs State DataFrame:\n",
      "  REGION TYPE      REGION  YEAR  WEEK TOTAL SPECIMENS TOTAL A TOTAL B  \\\n",
      "0      States     Alabama  2015    40             167       2       3   \n",
      "1      States      Alaska  2015    40               X       X       X   \n",
      "2      States     Arizona  2015    40              55       0       0   \n",
      "3      States    Arkansas  2015    40              26       0       1   \n",
      "4      States  California  2015    40             683       2       0   \n",
      "\n",
      "  PERCENT POSITIVE PERCENT A PERCENT B  \n",
      "0             2.99       1.2       1.8  \n",
      "1                X         X         X  \n",
      "2                0         0         0  \n",
      "3             3.85         0      3.85  \n",
      "4             0.29      0.29         0  \n"
     ]
    }
   ],
   "source": [
    "import pandas as pd\n",
    "\n",
    "# Step 1: Load CSV data into Pandas DataFrames for the two CSV files\n",
    "file_path_ilinet_state = \"ILINet.csv\"\n",
    "file_path_clinical_labs_national = \"WHO_NREVSS_Clinical_Labs.csv\"\n",
    "file_path_ilinet_national = \"ILINetnational.csv\"\n",
    "file_path_clinical_labs_state = \"WHO_NREVSS_Clinical_Labsstate.csv\"\n",
    "\n",
    "df_ilinet_state = pd.read_csv(file_path_ilinet_state)\n",
    "df_clinical_labs_national = pd.read_csv(file_path_clinical_labs_national)\n",
    "df_ilinet_national = pd.read_csv(file_path_ilinet_national)\n",
    "df_clinical_labs_state = pd.read_csv(file_path_clinical_labs_state)\n",
    "\n",
    "# Display the first few rows of each DataFrame\n",
    "print(\"First few rows of ILINet State DataFrame:\")\n",
    "print(df_ilinet_state.head())\n",
    "\n",
    "print(\"\\nFirst few rows of WHO_NREVSS_Clinical_Labs National DataFrame:\")\n",
    "print(df_clinical_labs_national.head())\n",
    "\n",
    "print(\"First few rows of ILINet National DataFrame:\")\n",
    "print(df_ilinet_national.head())\n",
    "\n",
    "print(\"\\nFirst few rows of WHO_NREVSS_Clinical_Labs State DataFrame:\")\n",
    "print(df_clinical_labs_state.head())"
   ]
  },
  {
   "cell_type": "code",
   "execution_count": 2,
   "metadata": {},
   "outputs": [
    {
     "name": "stdout",
     "output_type": "stream",
     "text": [
      "Selected Columns from ILINet DataFrame:\n",
      "       REGION  YEAR  WEEK AGE 0-4 AGE 25-49 AGE 25-64 AGE 5-24 AGE 50-64  \\\n",
      "0     Alabama  2010    40       X         X         X        X         X   \n",
      "1      Alaska  2010    40       X         X         X        X         X   \n",
      "2     Arizona  2010    40       X         X         X        X         X   \n",
      "3    Arkansas  2010    40       X         X         X        X         X   \n",
      "4  California  2010    40       X         X         X        X         X   \n",
      "\n",
      "  AGE 65 ILITOTAL NUM. OF PROVIDERS TOTAL PATIENTS  \n",
      "0      X      249                35          11664  \n",
      "1      X       15                 7           1714  \n",
      "2      X      172                49          25492  \n",
      "3      X       18                15           2586  \n",
      "4      X      632               112          32342  \n",
      "\n",
      "Selected Columns from WHO_NREVVS_Clinical_Labs DataFrame:\n",
      "  REGION TYPE  TOTAL SPECIMENS  TOTAL A  TOTAL B  YEAR  WEEK\n",
      "0    National            12029       84       43  2015    40\n",
      "1    National            13111      116       54  2015    41\n",
      "2    National            13441       97       52  2015    42\n",
      "3    National            13537       98       52  2015    43\n",
      "4    National            14687       97       68  2015    44\n",
      "Selected Columns from ILINet DataFrame:\n",
      "  REGION TYPE  YEAR  WEEK  AGE 0-4 AGE 25-49 AGE 25-64  AGE 5-24 AGE 50-64  \\\n",
      "0    National  1997    40      179         X       157       205         X   \n",
      "1    National  1997    41      199         X       151       242         X   \n",
      "2    National  1997    42      228         X       153       266         X   \n",
      "3    National  1997    43      188         X       193       236         X   \n",
      "4    National  1997    44      217         X       162       280         X   \n",
      "\n",
      "   AGE 65  ILITOTAL  NUM. OF PROVIDERS  TOTAL PATIENTS  \n",
      "0      29       570                192           46842  \n",
      "1      23       615                191           48023  \n",
      "2      34       681                219           54961  \n",
      "3      36       653                213           57044  \n",
      "4      41       700                213           55506  \n",
      "\n",
      "Selected Columns from WHO_NREVVS_Clinical_Labs DataFrame:\n",
      "       REGION TOTAL SPECIMENS TOTAL A TOTAL B  YEAR  WEEK\n",
      "0     Alabama             167       2       3  2015    40\n",
      "1      Alaska               X       X       X  2015    40\n",
      "2     Arizona              55       0       0  2015    40\n",
      "3    Arkansas              26       0       1  2015    40\n",
      "4  California             683       2       0  2015    40\n"
     ]
    }
   ],
   "source": [
    "df_ilinet_selected_state = df_ilinet_state[['REGION','YEAR','WEEK', 'AGE 0-4', 'AGE 25-49', 'AGE 25-64', 'AGE 5-24', 'AGE 50-64', 'AGE 65', 'ILITOTAL', 'NUM. OF PROVIDERS', 'TOTAL PATIENTS']]\n",
    "\n",
    "df_clinical_labs_selected_national = df_clinical_labs_national[['REGION TYPE', 'TOTAL SPECIMENS', 'TOTAL A', 'TOTAL B', 'YEAR','WEEK']]\n",
    "\n",
    "df_ilinet_selected_national = df_ilinet_national[['REGION TYPE', 'YEAR', 'WEEK','AGE 0-4', 'AGE 25-49', 'AGE 25-64', 'AGE 5-24', 'AGE 50-64', 'AGE 65', 'ILITOTAL', 'NUM. OF PROVIDERS', 'TOTAL PATIENTS']]\n",
    "\n",
    "df_clinical_labs_selected_state = df_clinical_labs_state[['REGION', 'TOTAL SPECIMENS', 'TOTAL A', 'TOTAL B', 'YEAR','WEEK']]\n",
    "\n",
    "# Display the selected DataFrames\n",
    "print(\"Selected Columns from ILINet DataFrame:\")\n",
    "print(df_ilinet_selected_state.head())\n",
    "\n",
    "print(\"\\nSelected Columns from WHO_NREVVS_Clinical_Labs DataFrame:\")\n",
    "print(df_clinical_labs_selected_national.head())\n",
    "\n",
    "print(\"Selected Columns from ILINet DataFrame:\")\n",
    "print(df_ilinet_selected_national.head())\n",
    "\n",
    "print(\"\\nSelected Columns from WHO_NREVVS_Clinical_Labs DataFrame:\")\n",
    "print(df_clinical_labs_selected_state.head())"
   ]
  },
  {
   "cell_type": "markdown",
   "metadata": {},
   "source": [
    "## Transformation"
   ]
  },
  {
   "cell_type": "code",
   "execution_count": 3,
   "metadata": {},
   "outputs": [],
   "source": [
    "def CreateClinicalDF(clinical_data_set):\n",
    "    #Take the state dataframes and filter for year 2023 and filter/change column types of totals to int\n",
    "    df_clinical_state = clinical_data_set[clinical_data_set['YEAR'] == 2023]\n",
    "    #some states do not have data\n",
    "    df_clinical_state = df_clinical_state[df_clinical_state['TOTAL A'] != 'X']\n",
    "    df_clinical_state[\"TOTAL A\"] = df_clinical_state[\"TOTAL A\"].astype(int)\n",
    "    df_clinical_state[\"TOTAL B\"] = df_clinical_state[\"TOTAL B\"].astype(int)\n",
    "    df_clinical_state[\"TOTAL SPECIMENS\"] = df_clinical_state[\"TOTAL SPECIMENS\"].astype(int)\n",
    "    return(df_clinical_state)"
   ]
  },
  {
   "cell_type": "code",
   "execution_count": 4,
   "metadata": {},
   "outputs": [],
   "source": [
    "def CreateILIDF(ili_data_set):\n",
    "    #Take the state dataframes and filter for year 2023 and filter/change column types of totals to int\n",
    "    df_ili = ili_data_set[ili_data_set['YEAR'] == 2023]\n",
    "    #some states do not have data\n",
    "    df_ili = df_ili[df_ili['ILITOTAL'] != 'X']\n",
    "    df_ili[\"ILITOTAL\"] = df_ili[\"ILITOTAL\"].astype(int)\n",
    "    df_ili[\"TOTAL PATIENTS\"] = df_ili[\"TOTAL PATIENTS\"].astype(int)\n",
    "    return df_ili"
   ]
  },
  {
   "cell_type": "code",
   "execution_count": 5,
   "metadata": {},
   "outputs": [],
   "source": [
    "#Filter the 2 state data sets\n",
    "df_ili_state = CreateILIDF(df_ilinet_selected_state)\n",
    "df_clinical_state = CreateClinicalDF(df_clinical_labs_selected_state)"
   ]
  },
  {
   "cell_type": "code",
   "execution_count": 6,
   "metadata": {},
   "outputs": [],
   "source": [
    "#get necessary clinical columns\n",
    "df_clinical_state_grouped = pd.DataFrame(df_clinical_state.groupby(['REGION', 'WEEK'])[[\"TOTAL A\", \"TOTAL B\", \"TOTAL SPECIMENS\"]].sum())\n",
    "#Combine totals into one count of positives\n",
    "df_clinical_state_grouped['TOTAL POSITIVE CLINICAL'] = df_clinical_state_grouped[\"TOTAL A\"] + df_clinical_state_grouped[\"TOTAL B\"]\n",
    "#Drop original total columns that have been replaced\n",
    "df_clinical_state_grouped = df_clinical_state_grouped.drop(\"TOTAL A\", axis=1)\n",
    "df_clinical_state_grouped = df_clinical_state_grouped.drop(\"TOTAL B\", axis=1)\n",
    "df_clinical_state_grouped = df_clinical_state_grouped.reset_index()"
   ]
  },
  {
   "cell_type": "code",
   "execution_count": 7,
   "metadata": {},
   "outputs": [],
   "source": [
    "#get the necessary ili columns\n",
    "df_ili_state_grouped = pd.DataFrame(df_ili_state.groupby(['REGION', 'WEEK'])[[\"ILITOTAL\", \"TOTAL PATIENTS\"]].sum())\n",
    "df_ili_state_grouped = df_ili_state_grouped.reset_index()"
   ]
  },
  {
   "cell_type": "code",
   "execution_count": 8,
   "metadata": {},
   "outputs": [],
   "source": [
    "#merge the 2 state data sets\n",
    "merged_state_df = pd.merge(df_ili_state_grouped, df_clinical_state_grouped, on = ['REGION', 'WEEK'], how = 'outer')\n",
    "merged_state_df['PATIENT COUNT'] = merged_state_df['TOTAL PATIENTS'] + merged_state_df['TOTAL SPECIMENS']\n",
    "merged_state_df['POSITIVE COUNT'] = merged_state_df['ILITOTAL'] + merged_state_df['TOTAL POSITIVE CLINICAL']\n",
    "merged_state_df = merged_state_df.drop(['ILITOTAL' , 'TOTAL PATIENTS', 'TOTAL SPECIMENS', 'TOTAL POSITIVE CLINICAL'], axis=1)"
   ]
  },
  {
   "cell_type": "code",
   "execution_count": 9,
   "metadata": {},
   "outputs": [],
   "source": [
    "def AssignMonth(df):\n",
    "    #week numbers were estimated using https://calendar.online/calendar-weeks/2023\n",
    "    #re-assign weeks to month and add to state_df as column\n",
    "    #add month number to sort by month\n",
    "    month_num = []\n",
    "    month = list(df['WEEK'])\n",
    "    for i in range(len(month)):\n",
    "        if month[i] < 5:\n",
    "            month[i] = 'January'\n",
    "            month_num.append(1)\n",
    "        elif month[i] < 9:\n",
    "            month[i] = 'February'\n",
    "            month_num.append(2)\n",
    "        elif month[i] < 14:\n",
    "            month[i] = 'March'\n",
    "            month_num.append(3)\n",
    "        elif month[i] < 18:\n",
    "            month[i] = 'April'\n",
    "            month_num.append(4)\n",
    "        elif month[i] < 22:\n",
    "            month[i] = 'May'\n",
    "            month_num.append(5)\n",
    "        elif month[i] < 27:\n",
    "            month[i] = 'June'\n",
    "            month_num.append(6)\n",
    "        elif month[i] < 31:\n",
    "            month[i] = 'July'\n",
    "            month_num.append(7)\n",
    "        elif month[i] < 36:\n",
    "            month[i] = 'August'\n",
    "            month_num.append(8)\n",
    "        elif month[i] < 40:\n",
    "            month[i] = 'September'\n",
    "            month_num.append(9)\n",
    "        elif month[i] < 44:\n",
    "            month[i] = 'October'\n",
    "            month_num.append(10)\n",
    "        elif month[i] < 49:\n",
    "            month[i] = 'November'\n",
    "            month_num.append(11)\n",
    "        elif month[i] < 53:\n",
    "            month[i] = 'December'\n",
    "            month_num.append(12)\n",
    "    df['MONTH'] = month\n",
    "    df['MONTH NUMBER'] = month_num\n",
    "    df = df.drop('WEEK', axis=1)\n",
    "\n",
    "    return df"
   ]
  },
  {
   "cell_type": "code",
   "execution_count": 10,
   "metadata": {},
   "outputs": [],
   "source": [
    "#Calculate month values\n",
    "merged_state_df = AssignMonth(merged_state_df)"
   ]
  },
  {
   "cell_type": "code",
   "execution_count": 11,
   "metadata": {},
   "outputs": [],
   "source": [
    "#create final state df\n",
    "#We should aknowledge some states aren't reporting every month\n",
    "merged_state_df = pd.DataFrame(merged_state_df.groupby(['REGION', 'MONTH NUMBER', 'MONTH'])[['PATIENT COUNT','POSITIVE COUNT']].sum()).reset_index()\n",
    "merged_state_df = merged_state_df.drop('MONTH NUMBER',axis=1)\n",
    "merged_state_df['PERCENT POSITIVE'] = merged_state_df['POSITIVE COUNT'] / merged_state_df['PATIENT COUNT'] * 100"
   ]
  },
  {
   "cell_type": "code",
   "execution_count": 12,
   "metadata": {},
   "outputs": [],
   "source": [
    "#Take the national dataframes and filter for year 2023 and filter/change column types of totals to int\n",
    "df_ili_national = CreateILIDF(df_ilinet_selected_national)\n",
    "df_clinical_national = CreateClinicalDF(df_clinical_labs_selected_national)"
   ]
  },
  {
   "cell_type": "code",
   "execution_count": 13,
   "metadata": {},
   "outputs": [],
   "source": [
    "#get necessary clinical columns\n",
    "df_clinical_national_grouped = pd.DataFrame(df_clinical_national.groupby(['WEEK'])[[\"TOTAL A\", \"TOTAL B\", \"TOTAL SPECIMENS\"]].sum())\n",
    "#Combine totals into one count of positives\n",
    "df_clinical_national_grouped['TOTAL POSITIVE CLINICAL'] = df_clinical_national_grouped[\"TOTAL A\"] + df_clinical_national_grouped[\"TOTAL B\"]\n",
    "#Drop original total columns that have been replaced\n",
    "df_clinical_national_grouped = df_clinical_national_grouped.drop(\"TOTAL A\", axis=1)\n",
    "df_clinical_national_grouped = df_clinical_national_grouped.drop(\"TOTAL B\", axis=1)\n",
    "df_clinical_national_grouped = df_clinical_national_grouped.reset_index()"
   ]
  },
  {
   "cell_type": "code",
   "execution_count": 14,
   "metadata": {},
   "outputs": [],
   "source": [
    "#get the necessary ili columns\n",
    "df_ili_national_grouped = pd.DataFrame(df_ili_national.groupby(['WEEK'])[[\"ILITOTAL\", \"TOTAL PATIENTS\"]].sum())\n",
    "df_ili_national_grouped = df_ili_national_grouped.reset_index()"
   ]
  },
  {
   "cell_type": "code",
   "execution_count": 15,
   "metadata": {},
   "outputs": [],
   "source": [
    "#merge the 2 national data sets\n",
    "merged_national_df = pd.merge(df_ili_national_grouped, df_clinical_national_grouped, on = ['WEEK'], how = 'outer')\n",
    "merged_national_df['PATIENT COUNT'] = merged_national_df['TOTAL PATIENTS'] + merged_national_df['TOTAL SPECIMENS']\n",
    "merged_national_df['POSITIVE COUNT'] = merged_national_df['ILITOTAL'] + merged_national_df['TOTAL POSITIVE CLINICAL']\n",
    "merged_national_df = merged_national_df.drop(['ILITOTAL' , 'TOTAL PATIENTS', 'TOTAL SPECIMENS', 'TOTAL POSITIVE CLINICAL'], axis=1)"
   ]
  },
  {
   "cell_type": "code",
   "execution_count": 16,
   "metadata": {},
   "outputs": [],
   "source": [
    "#Calculate month values\n",
    "merged_national_df = AssignMonth(merged_national_df)"
   ]
  },
  {
   "cell_type": "code",
   "execution_count": 17,
   "metadata": {},
   "outputs": [],
   "source": [
    "#create final national df\n",
    "merged_national_df = pd.DataFrame(merged_national_df.groupby(['MONTH NUMBER', 'MONTH'])[['PATIENT COUNT','POSITIVE COUNT']].sum()).reset_index()\n",
    "merged_national_df = merged_national_df.drop('MONTH NUMBER',axis=1)\n",
    "merged_national_df['PERCENT POSITIVE'] = merged_national_df['POSITIVE COUNT'] / merged_national_df['PATIENT COUNT'] * 100"
   ]
  },
  {
   "cell_type": "code",
   "execution_count": 18,
   "metadata": {},
   "outputs": [],
   "source": [
    "#Make 2 csv fils\n",
    "merged_state_df.to_csv('combined_state_data.csv')\n",
    "merged_national_df.to_csv('combined_national_data.csv')"
   ]
  },
  {
   "cell_type": "markdown",
   "metadata": {},
   "source": [
    "## Database Creation"
   ]
  },
  {
   "cell_type": "code",
   "execution_count": 19,
   "metadata": {},
   "outputs": [
    {
     "name": "stderr",
     "output_type": "stream",
     "text": [
      "2024-01-29T16:37:45.070-0600\tconnected to: mongodb://localhost/\n",
      "2024-01-29T16:37:45.072-0600\tdropping: flu.combined_national\n",
      "2024-01-29T16:37:45.093-0600\t12 document(s) imported successfully. 0 document(s) failed to import.\n",
      "2024-01-29T16:37:45.787-0600\tconnected to: mongodb://localhost/\n",
      "2024-01-29T16:37:45.789-0600\tdropping: flu.combined_state\n",
      "2024-01-29T16:37:45.813-0600\t648 document(s) imported successfully. 0 document(s) failed to import.\n"
     ]
    }
   ],
   "source": [
    "!mongoimport --type csv -d flu -c combined_national --headerline --drop Resources/combined_national_data.csv\n",
    "!mongoimport --type csv -d flu -c combined_state --headerline --drop Resources/combined_state_data.csv"
   ]
  },
  {
   "cell_type": "code",
   "execution_count": 20,
   "metadata": {},
   "outputs": [],
   "source": [
    "# Import dependencies\n",
    "from pymongo import MongoClient"
   ]
  },
  {
   "cell_type": "code",
   "execution_count": 21,
   "metadata": {},
   "outputs": [],
   "source": [
    "# Create an instance of MongoClient\n",
    "mongo = MongoClient(port=27017)"
   ]
  },
  {
   "cell_type": "code",
   "execution_count": 22,
   "metadata": {},
   "outputs": [
    {
     "name": "stdout",
     "output_type": "stream",
     "text": [
      "['admin', 'autosaurus', 'classDB', 'config', 'epa', 'flu', 'fruits_db', 'local', 'met', 'petsitly_marketing', 'uk_food']\n"
     ]
    }
   ],
   "source": [
    "# confirm that the \"flu\" database is in MongoDB\n",
    "print(mongo.list_database_names())"
   ]
  },
  {
   "cell_type": "code",
   "execution_count": 23,
   "metadata": {},
   "outputs": [],
   "source": [
    "# assign the database to a variable name\n",
    "db = mongo['flu']"
   ]
  },
  {
   "cell_type": "code",
   "execution_count": 24,
   "metadata": {},
   "outputs": [
    {
     "name": "stdout",
     "output_type": "stream",
     "text": [
      "['combined_national', 'combined_state']\n"
     ]
    }
   ],
   "source": [
    "# review the collections in our new database\n",
    "print(db.list_collection_names())"
   ]
  },
  {
   "cell_type": "code",
   "execution_count": 25,
   "metadata": {},
   "outputs": [
    {
     "name": "stdout",
     "output_type": "stream",
     "text": [
      "{'_id': ObjectId('65b828b97f1579a20eba7408'), '': 0, 'MONTH': 'January', 'PATIENT COUNT': 9221974, 'POSITIVE COUNT': 296436, 'PERCENT POSITIVE': 3.2144527841869865}\n"
     ]
    }
   ],
   "source": [
    "# review a document in the combined_national collection\n",
    "print(db.combined_national.find_one())"
   ]
  },
  {
   "cell_type": "code",
   "execution_count": 26,
   "metadata": {},
   "outputs": [
    {
     "name": "stdout",
     "output_type": "stream",
     "text": [
      "{'_id': ObjectId('65b828b95f8533521aa0a71d'), '': 0, 'REGION': 'Alabama', 'MONTH': 'January', 'PATIENT COUNT': 190817.0, 'POSITIVE COUNT': 5460.0, 'PERCENT POSITIVE': 2.8613802753423436}\n"
     ]
    }
   ],
   "source": [
    "# review a document in the combined_state collection\n",
    "print(db.combined_state.find_one())"
   ]
  },
  {
   "cell_type": "code",
   "execution_count": 27,
   "metadata": {},
   "outputs": [],
   "source": [
    "# assign each collection to a variable\n",
    "combined_state = db['combined_state']\n",
    "combined_national = db['combined_national']"
   ]
  },
  {
   "cell_type": "code",
   "execution_count": null,
   "metadata": {},
   "outputs": [],
   "source": []
  }
 ],
 "metadata": {
  "anaconda-cloud": {},
  "kernelspec": {
   "display_name": "Python 3 (ipykernel)",
   "language": "python",
   "name": "python3"
  },
  "language_info": {
   "codemirror_mode": {
    "name": "ipython",
    "version": 3
   },
   "file_extension": ".py",
   "mimetype": "text/x-python",
   "name": "python",
   "nbconvert_exporter": "python",
   "pygments_lexer": "ipython3",
   "version": "3.10.13"
  }
 },
 "nbformat": 4,
 "nbformat_minor": 4
}
