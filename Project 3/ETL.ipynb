{
 "cells": [
  {
   "cell_type": "markdown",
   "metadata": {},
   "source": [
    "Data Engineering - Group 1\n",
    "Healthcare - Flu Tracker\n",
    "---\n",
    "\n",
    " "
   ]
  },
  {
   "cell_type": "markdown",
   "metadata": {},
   "source": [
    "## Extraction"
   ]
  },
  {
   "cell_type": "code",
   "execution_count": 19,
   "metadata": {},
   "outputs": [
    {
     "name": "stdout",
     "output_type": "stream",
     "text": [
      "First few rows of ILINet DataFrame:\n",
      "  REGION TYPE      REGION  YEAR  WEEK % WEIGHTED ILI %UNWEIGHTED ILI AGE 0-4  \\\n",
      "0      States     Alabama  2010    40              X         2.13477       X   \n",
      "1      States      Alaska  2010    40              X        0.875146       X   \n",
      "2      States     Arizona  2010    40              X        0.674721       X   \n",
      "3      States    Arkansas  2010    40              X        0.696056       X   \n",
      "4      States  California  2010    40              X         1.95412       X   \n",
      "\n",
      "  AGE 25-49 AGE 25-64 AGE 5-24 AGE 50-64 AGE 65 ILITOTAL NUM. OF PROVIDERS  \\\n",
      "0         X         X        X         X      X      249                35   \n",
      "1         X         X        X         X      X       15                 7   \n",
      "2         X         X        X         X      X      172                49   \n",
      "3         X         X        X         X      X       18                15   \n",
      "4         X         X        X         X      X      632               112   \n",
      "\n",
      "  TOTAL PATIENTS  \n",
      "0          11664  \n",
      "1           1714  \n",
      "2          25492  \n",
      "3           2586  \n",
      "4          32342  \n",
      "\n",
      "First few rows of WHO_NREVSS_Clinical_Labs DataFrame:\n",
      "  REGION TYPE REGION  YEAR  WEEK  TOTAL SPECIMENS  TOTAL A  TOTAL B  \\\n",
      "0    National      X  2015    40            12029       84       43   \n",
      "1    National      X  2015    41            13111      116       54   \n",
      "2    National      X  2015    42            13441       97       52   \n",
      "3    National      X  2015    43            13537       98       52   \n",
      "4    National      X  2015    44            14687       97       68   \n",
      "\n",
      "   PERCENT POSITIVE  PERCENT A  PERCENT B  \n",
      "0           1.05578   0.698312   0.357469  \n",
      "1           1.29662   0.884753   0.411868  \n",
      "2           1.10855   0.721672   0.386876  \n",
      "3           1.10807   0.723942   0.384132  \n",
      "4           1.12344   0.660448   0.462994  \n"
     ]
    }
   ],
   "source": [
    "import pandas as pd\n",
    "\n",
    "# Step 1: Load CSV data into Pandas DataFrames for the two CSV files\n",
    "file_path_ilinet = \"ILINet.csv\"\n",
    "file_path_clinical_labs = \"WHO_NREVSS_Clinical_Labs.csv\"\n",
    "\n",
    "df_ilinet = pd.read_csv(file_path_ilinet)\n",
    "df_clinical_labs = pd.read_csv(file_path_clinical_labs)\n",
    "\n",
    "# Display the first few rows of each DataFrame\n",
    "print(\"First few rows of ILINet DataFrame:\")\n",
    "print(df_ilinet.head())\n",
    "\n",
    "print(\"\\nFirst few rows of WHO_NREVSS_Clinical_Labs DataFrame:\")\n",
    "print(df_clinical_labs.head())"
   ]
  },
  {
   "cell_type": "code",
   "execution_count": 20,
   "metadata": {},
   "outputs": [
    {
     "name": "stdout",
     "output_type": "stream",
     "text": [
      "Column names of df_ilinet: Index(['REGION TYPE', 'REGION', 'YEAR', 'WEEK', '% WEIGHTED ILI',\n",
      "       '%UNWEIGHTED ILI', 'AGE 0-4', 'AGE 25-49', 'AGE 25-64', 'AGE 5-24',\n",
      "       'AGE 50-64', 'AGE 65', 'ILITOTAL', 'NUM. OF PROVIDERS',\n",
      "       'TOTAL PATIENTS'],\n",
      "      dtype='object')\n"
     ]
    }
   ],
   "source": [
    "print(\"Column names of df_ilinet:\", df_ilinet.columns)\n"
   ]
  },
  {
   "cell_type": "code",
   "execution_count": 21,
   "metadata": {},
   "outputs": [
    {
     "name": "stdout",
     "output_type": "stream",
     "text": [
      "Selected Columns from ILINet DataFrame:\n",
      "       REGION AGE 0-4 AGE 25-49 AGE 25-64 AGE 5-24 AGE 50-64 AGE 65 ILITOTAL  \\\n",
      "0     Alabama       X         X         X        X         X      X      249   \n",
      "1      Alaska       X         X         X        X         X      X       15   \n",
      "2     Arizona       X         X         X        X         X      X      172   \n",
      "3    Arkansas       X         X         X        X         X      X       18   \n",
      "4  California       X         X         X        X         X      X      632   \n",
      "\n",
      "  NUM. OF PROVIDERS TOTAL PATIENTS  \n",
      "0                35          11664  \n",
      "1                 7           1714  \n",
      "2                49          25492  \n",
      "3                15           2586  \n",
      "4               112          32342  \n",
      "\n",
      "Selected Columns from WHO_NREVVS_Clinical_Labs DataFrame:\n",
      "  REGION TYPE  TOTAL SPECIMENS  TOTAL A  TOTAL B\n",
      "0    National            12029       84       43\n",
      "1    National            13111      116       54\n",
      "2    National            13441       97       52\n",
      "3    National            13537       98       52\n",
      "4    National            14687       97       68\n"
     ]
    }
   ],
   "source": [
    "df_ilinet_selected = df_ilinet[['REGION', 'AGE 0-4', 'AGE 25-49', 'AGE 25-64', 'AGE 5-24', 'AGE 50-64', 'AGE 65', 'ILITOTAL', 'NUM. OF PROVIDERS', 'TOTAL PATIENTS']]\n",
    "\n",
    "# WHO_NREVVS_Clinical_Labs DataFrame\n",
    "df_clinical_labs_selected = df_clinical_labs[['REGION TYPE', 'TOTAL SPECIMENS', 'TOTAL A', 'TOTAL B']]\n",
    "\n",
    "# Display the selected DataFrames\n",
    "print(\"Selected Columns from ILINet DataFrame:\")\n",
    "print(df_ilinet_selected.head())\n",
    "\n",
    "print(\"\\nSelected Columns from WHO_NREVVS_Clinical_Labs DataFrame:\")\n",
    "print(df_clinical_labs_selected.head())"
   ]
  },
  {
   "cell_type": "markdown",
   "metadata": {},
   "source": [
    "## Transformation"
   ]
  },
  {
   "cell_type": "code",
   "execution_count": null,
   "metadata": {},
   "outputs": [],
   "source": []
  },
  {
   "cell_type": "code",
   "execution_count": null,
   "metadata": {},
   "outputs": [],
   "source": []
  }
 ],
 "metadata": {
  "anaconda-cloud": {},
  "kernelspec": {
   "display_name": "Python 3 (ipykernel)",
   "language": "python",
   "name": "python3"
  },
  "language_info": {
   "codemirror_mode": {
    "name": "ipython",
    "version": 3
   },
   "file_extension": ".py",
   "mimetype": "text/x-python",
   "name": "python",
   "nbconvert_exporter": "python",
   "pygments_lexer": "ipython3",
   "version": "3.10.13"
  }
 },
 "nbformat": 4,
 "nbformat_minor": 4
}
